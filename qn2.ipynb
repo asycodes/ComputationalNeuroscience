{
 "cells": [
  {
   "cell_type": "markdown",
   "metadata": {},
   "source": [
    "# Question 2: Rob de Ruyter van Steveninck Fly Spike Train"
   ]
  },
  {
   "cell_type": "markdown",
   "metadata": {},
   "source": [
    "Calculate the Fano factor and coefficient of variation for this spike train\n",
    "as for the simulated spike trains above (also exploring 10 ms, 50 ms,\n",
    "100 ms bin size"
   ]
  },
  {
   "cell_type": "code",
   "execution_count": 8,
   "metadata": {},
   "outputs": [
    {
     "name": "stdout",
     "output_type": "stream",
     "text": [
      "Fano Factor (bin width 10 ms): 1.1177\n",
      "Fano Factor (bin width 50 ms): 2.9299\n",
      "Fano Factor (bin width 100 ms): 4.1033\n",
      "Coefficient of Variation (CV): 2.0086\n"
     ]
    }
   ],
   "source": [
    "import numpy as np\n",
    "\n",
    "\n",
    "rho = np.loadtxt(\"rho.dat\") \n",
    "sampling_rate = 500\n",
    "dt = 1 / sampling_rate\n",
    "bin_widths = [0.01, 0.05, 0.1]  # 10 ms, 50 ms, 100 ms\n",
    "total_time = 20 *60\n",
    "results = []\n",
    "spike_counts_dict = {}\n",
    "\n",
    "for bin_width in bin_widths:\n",
    "    num_bins = int(total_time / bin_width)\n",
    "    bins = np.array_split(rho, num_bins)\n",
    "    spike_counts = [np.sum(b) for b in bins]\n",
    "    spike_counts_dict[bin_width] = spike_counts\n",
    "\n",
    "\n",
    "    variance = np.var(spike_counts, ddof=1)\n",
    "    mean = np.mean(spike_counts)\n",
    "    fano_factor = variance / mean if mean > 0 else 0\n",
    "    results.append((bin_width*1000, fano_factor)) \n",
    "\n",
    "for bin_width, fano in results:\n",
    "    print(f\"Fano Factor (bin width {bin_width:.0f} ms): {fano:.4f}\")\n",
    "\n",
    "spike_times = np.where(rho == 1)[0] * dt\n",
    "isis = np.diff(spike_times)\n",
    "mean_isi = np.mean(isis)\n",
    "std_isi = np.std(isis, ddof=1)\n",
    "cv = std_isi / mean_isi\n",
    "print(f\"Coefficient of Variation (CV): {cv:.4f}\")\n"
   ]
  }
 ],
 "metadata": {
  "kernelspec": {
   "display_name": "Python 3",
   "language": "python",
   "name": "python3"
  },
  "language_info": {
   "codemirror_mode": {
    "name": "ipython",
    "version": 3
   },
   "file_extension": ".py",
   "mimetype": "text/x-python",
   "name": "python",
   "nbconvert_exporter": "python",
   "pygments_lexer": "ipython3",
   "version": "3.10.6"
  }
 },
 "nbformat": 4,
 "nbformat_minor": 2
}
